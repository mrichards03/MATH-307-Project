{
 "cells": [
  {
   "cell_type": "code",
   "execution_count": 43,
   "id": "6f6327ee-53a0-4bfe-8955-6d133d89fb6d",
   "metadata": {},
   "outputs": [],
   "source": [
    "import numpy as np\n",
    "import imageio.v2 as imageio\n",
    "from PIL import Image"
   ]
  },
  {
   "cell_type": "code",
   "execution_count": 44,
   "id": "63c785cd-45f9-4762-ac5f-ea4831bfd575",
   "metadata": {},
   "outputs": [],
   "source": [
    "image = imageio.imread('ankkit-art-gallery-grey.jpg', mode=\"L\")"
   ]
  },
  {
   "cell_type": "code",
   "execution_count": 45,
   "id": "888eb115-92a6-4a1c-9940-244ce15a38af",
   "metadata": {},
   "outputs": [
    {
     "name": "stdout",
     "output_type": "stream",
     "text": [
      "m x n =  400  x  400\n"
     ]
    }
   ],
   "source": [
    "#convert image to array and get the dimensions\n",
    "image = np.array(image)\n",
    "m,n = image.shape\n",
    "print(\"m x n = \", m, \" x \", n)"
   ]
  },
  {
   "cell_type": "code",
   "execution_count": 46,
   "id": "2a882777-7301-4174-8a73-8fdffe0ba009",
   "metadata": {},
   "outputs": [],
   "source": [
    "#perform SVD\n",
    "U, S, VT = np.linalg.svd(image)"
   ]
  },
  {
   "cell_type": "code",
   "execution_count": 47,
   "id": "5d82600d-e53e-4324-a49e-a52f1263478c",
   "metadata": {},
   "outputs": [],
   "source": [
    "# Calculate the rank 1 approximation\n",
    "# Extract the largest singular value and corresponding singular vectors\n",
    "sigma1 = S[0]\n",
    "u1 = U[:, 0]\n",
    "v1 = VT[0, :]\n",
    "\n",
    "# Rank-1 approximation\n",
    "rank1 = sigma1 * np.outer(u1, v1)\n",
    "\n",
    "# convert to image and print\n",
    "rank1Image = Image.fromarray(rank1)\n",
    "rank1Image = rank1Image.convert(\"L\")\n",
    "rank1Image.show()\n",
    "imageio.imwrite(\"rank1Image.jpg\",rank1Image)\n"
   ]
  },
  {
   "cell_type": "code",
   "execution_count": 48,
   "id": "0ebf2af3-dd9c-4e7d-ad54-cb18bd181126",
   "metadata": {},
   "outputs": [
    {
     "name": "stdout",
     "output_type": "stream",
     "text": [
      "r = 398\n"
     ]
    }
   ],
   "source": [
    "#Find the rank of the image\n",
    "for r in range(0, len(S)):\n",
    "    if S[r] < 0.000001:\n",
    "        # return r for first value below this precision\n",
    "        print(f\"r = {r}\")\n",
    "        break"
   ]
  },
  {
   "cell_type": "code",
   "execution_count": 49,
   "id": "01829a0a-7dc5-4328-bb4c-3a80226fef08",
   "metadata": {},
   "outputs": [],
   "source": [
    "r = 398"
   ]
  },
  {
   "cell_type": "code",
   "execution_count": 50,
   "id": "e5764321-c26c-426f-8a23-c9564adc6e18",
   "metadata": {},
   "outputs": [],
   "source": [
    "def getUi(i):\n",
    "    assert i <= r\n",
    "    return U[:,i]\n",
    "\n",
    "def getVTi(i):\n",
    "    assert i<=r\n",
    "    return VT[i,:]"
   ]
  },
  {
   "cell_type": "code",
   "execution_count": 51,
   "id": "049dfe10-bbf5-4478-a8f1-d23857a1a685",
   "metadata": {},
   "outputs": [],
   "source": [
    "def calculate_image_kth_sv(k):\n",
    "    k_th_image = np.zeros((m,n))\n",
    "    for i in range(0, k+1):\n",
    "        u = getUi(i)\n",
    "        u.shape= (m,1)\n",
    "        vT = getVTi(i)\n",
    "        vT.shape = (1,n)\n",
    "        sigma = S[i]\n",
    "        k_th_image += sigma * np.dot(u,vT)\n",
    "    name = f\"compressed_k{k}.jpg\"\n",
    "    k_th_image = Image.fromarray(k_th_image)\n",
    "    k_th_image = k_th_image.convert('L')\n",
    "    imageio.imwrite(name,k_th_image)\n",
    "\n",
    "    # calculate compression ratio\n",
    "    original_size = m*n\n",
    "    compressed_size = k*(m+n+1)\n",
    "    compression_ratio = original_size/compressed_size\n",
    "    print(f\"Compression ratio for k = {k} is {compression_ratio}\")\n",
    "    return k_th_image"
   ]
  },
  {
   "cell_type": "code",
   "execution_count": 52,
   "id": "4fde8d03-ffd5-4426-a1ac-af11de3f5ab4",
   "metadata": {},
   "outputs": [
    {
     "name": "stdout",
     "output_type": "stream",
     "text": [
      "Compression ratio for k = 5 is 39.95006242197253\n",
      "Compression ratio for k = 10 is 19.975031210986266\n",
      "Compression ratio for k = 40 is 4.9937578027465666\n",
      "Compression ratio for k = 60 is 3.329171868497711\n"
     ]
    }
   ],
   "source": [
    "# Experiment with different values of k\n",
    "rank_5_image = calculate_image_kth_sv(5)\n",
    "rank_10_image = calculate_image_kth_sv(10)\n",
    "rank_40_image = calculate_image_kth_sv(40)\n",
    "\n",
    "k_th_image = calculate_image_kth_sv(60)"
   ]
  },
  {
   "cell_type": "code",
   "execution_count": null,
   "id": "08528857",
   "metadata": {},
   "outputs": [],
   "source": []
  },
  {
   "cell_type": "code",
   "execution_count": null,
   "id": "021c47ab-22a6-485e-b653-ac4e9834eabc",
   "metadata": {},
   "outputs": [],
   "source": []
  }
 ],
 "metadata": {
  "kernelspec": {
   "display_name": "Python 3",
   "language": "python",
   "name": "python3"
  },
  "language_info": {
   "codemirror_mode": {
    "name": "ipython",
    "version": 3
   },
   "file_extension": ".py",
   "mimetype": "text/x-python",
   "name": "python",
   "nbconvert_exporter": "python",
   "pygments_lexer": "ipython3",
   "version": "3.13.0"
  }
 },
 "nbformat": 4,
 "nbformat_minor": 5
}

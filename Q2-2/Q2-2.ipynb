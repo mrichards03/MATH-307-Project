{
 "cells": [
  {
   "cell_type": "code",
   "execution_count": 90,
   "id": "6f6327ee-53a0-4bfe-8955-6d133d89fb6d",
   "metadata": {},
   "outputs": [],
   "source": [
    "import numpy as np\n",
    "import imageio.v2 as imageio\n",
    "from PIL import Image"
   ]
  },
  {
   "cell_type": "code",
   "execution_count": 60,
   "id": "63c785cd-45f9-4762-ac5f-ea4831bfd575",
   "metadata": {},
   "outputs": [],
   "source": [
    "image = imageio.imread('ankkit-art-gallery-grey.jpg', mode=\"L\")"
   ]
  },
  {
   "cell_type": "code",
   "execution_count": 61,
   "id": "888eb115-92a6-4a1c-9940-244ce15a38af",
   "metadata": {},
   "outputs": [],
   "source": [
    "image = np.array(image)\n",
    "m,n = image.shape"
   ]
  },
  {
   "cell_type": "code",
   "execution_count": 62,
   "id": "2a882777-7301-4174-8a73-8fdffe0ba009",
   "metadata": {},
   "outputs": [],
   "source": [
    "U, S, VT = np.linalg.svd(image)"
   ]
  },
  {
   "cell_type": "code",
   "execution_count": 63,
   "id": "5d82600d-e53e-4324-a49e-a52f1263478c",
   "metadata": {},
   "outputs": [
    {
     "data": {
      "text/plain": [
       "array([[-0.04796658, -0.02959103, -0.03502398, ..., -0.12457944,\n",
       "        -0.03190662, -0.02290185],\n",
       "       [-0.04796211, -0.02958106, -0.03503167, ..., -0.10574519,\n",
       "         0.20636327,  0.12844573],\n",
       "       [-0.04794752, -0.0295276 , -0.03509177, ...,  0.04312825,\n",
       "        -0.00969145, -0.00590142],\n",
       "       ...,\n",
       "       [-0.06420934,  0.0374698 ,  0.05282195, ...,  0.00137087,\n",
       "         0.00279048, -0.02574115],\n",
       "       [-0.06427117,  0.03697744,  0.05287145, ..., -0.01017257,\n",
       "         0.00196151,  0.00282386],\n",
       "       [-0.06429992,  0.03650663,  0.05329248, ...,  0.00942499,\n",
       "        -0.00277621,  0.00765549]])"
      ]
     },
     "execution_count": 63,
     "metadata": {},
     "output_type": "execute_result"
    }
   ],
   "source": [
    "U"
   ]
  },
  {
   "cell_type": "code",
   "execution_count": 64,
   "id": "0ebf2af3-dd9c-4e7d-ad54-cb18bd181126",
   "metadata": {},
   "outputs": [
    {
     "name": "stdout",
     "output_type": "stream",
     "text": [
      "r = 398\n"
     ]
    }
   ],
   "source": [
    "for r in range(0, len(S)):\n",
    "    if S[r] < 0.000001:\n",
    "        # return r for first value below this precision\n",
    "        print(f\"r = {r}\")\n",
    "        break"
   ]
  },
  {
   "cell_type": "code",
   "execution_count": 65,
   "id": "01829a0a-7dc5-4328-bb4c-3a80226fef08",
   "metadata": {},
   "outputs": [],
   "source": [
    "r = 398"
   ]
  },
  {
   "cell_type": "code",
   "execution_count": 84,
   "id": "e5764321-c26c-426f-8a23-c9564adc6e18",
   "metadata": {},
   "outputs": [],
   "source": [
    "def getUi(i):\n",
    "    assert i <= r\n",
    "    return U[:,i]\n",
    "\n",
    "def getVTi(i):\n",
    "    assert i<=r\n",
    "    return VT[i,:]"
   ]
  },
  {
   "cell_type": "code",
   "execution_count": 85,
   "id": "049dfe10-bbf5-4478-a8f1-d23857a1a685",
   "metadata": {},
   "outputs": [],
   "source": [
    "def calculate_image_kth_sv(k):\n",
    "    k_th_image = np.zeros((m,n))\n",
    "    for i in range(0, k+1):\n",
    "        u = getUi(i)\n",
    "        u.shape= (m,1)\n",
    "        vT = getVTi(i)\n",
    "        vT.shape = (1,n)\n",
    "        sigma = S[i]\n",
    "        k_th_image += sigma * np.dot(u,vT)\n",
    "    name = f\"compressed_k{k}.jpg\"\n",
    "    k_th_image = Image.fromarray(k_th_image)\n",
    "    k_th_image = k_th_image.convert('L')\n",
    "    imageio.imwrite(name,k_th_image)\n",
    "    return k_th_image"
   ]
  },
  {
   "cell_type": "code",
   "execution_count": 89,
   "id": "4fde8d03-ffd5-4426-a1ac-af11de3f5ab4",
   "metadata": {},
   "outputs": [],
   "source": [
    "k_th_image = calculate_image_kth_sv(60)"
   ]
  },
  {
   "cell_type": "code",
   "execution_count": null,
   "id": "021c47ab-22a6-485e-b653-ac4e9834eabc",
   "metadata": {},
   "outputs": [],
   "source": []
  }
 ],
 "metadata": {
  "kernelspec": {
   "display_name": "Python 3 (ipykernel)",
   "language": "python",
   "name": "python3"
  },
  "language_info": {
   "codemirror_mode": {
    "name": "ipython",
    "version": 3
   },
   "file_extension": ".py",
   "mimetype": "text/x-python",
   "name": "python",
   "nbconvert_exporter": "python",
   "pygments_lexer": "ipython3",
   "version": "3.11.9"
  }
 },
 "nbformat": 4,
 "nbformat_minor": 5
}

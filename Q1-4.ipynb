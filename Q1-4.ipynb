{
 "cells": [
  {
   "cell_type": "code",
   "execution_count": 2,
   "id": "08fbef7a-d394-4ff4-bb1a-322ac3e7547d",
   "metadata": {},
   "outputs": [],
   "source": [
    "import numpy as np\n",
    "import scipy as sp\n",
    "A = np.array([[1,0],[1,3]])\n",
    "Q, R = sp.linalg.qr(A)"
   ]
  },
  {
   "cell_type": "code",
   "execution_count": 3,
   "id": "d020df73-73f9-43d9-ba3f-2093aae50952",
   "metadata": {},
   "outputs": [
    {
     "name": "stdout",
     "output_type": "stream",
     "text": [
      "[[-0.70710678 -0.70710678]\n",
      " [-0.70710678  0.70710678]]\n",
      "[[-1.41421356 -2.12132034]\n",
      " [ 0.          2.12132034]]\n"
     ]
    }
   ],
   "source": [
    "print(Q)\n",
    "print(R)"
   ]
  },
  {
   "cell_type": "code",
   "execution_count": 7,
   "id": "c8d06c63-cc80-468b-a3b1-abdc87d92bef",
   "metadata": {},
   "outputs": [],
   "source": [
    "A1 = np.dot(R,Q)"
   ]
  },
  {
   "cell_type": "code",
   "execution_count": 30,
   "id": "0e5a20c6-1041-4579-ad00-7e25daa0882a",
   "metadata": {},
   "outputs": [],
   "source": [
    "def print_np_array_as_latex_old(array):\n",
    "    print(\"\\\\left[\\n\\\\begin{array}{cc}\")\n",
    "    shape= array.shape\n",
    "    m = shape[0]\n",
    "    n = shape[1]\n",
    "    for i in range(0,m):\n",
    "        for j in range(0,n):\n",
    "            element = array[i,j]\n",
    "            print(f\"{element:.2f}\", end=\" & \")\n",
    "        print (\"\\\\\\\\\")\n",
    "    print(\"\\\\end{array}\\n\\\\right]\")\n",
    "def print_np_array_as_latex(array):\n",
    "    print(\"\\\\begin{bmatrix}\")\n",
    "    shape= array.shape\n",
    "    m = shape[0]\n",
    "    n = shape[1]\n",
    "    for i in range(0,m):\n",
    "        for j in range(0,n):\n",
    "            element = array[i,j]\n",
    "            print(f\"{element:.2f}\", end=\" & \")\n",
    "        print (\"\\\\\\\\\")\n",
    "    print(\"\\\\end{bmatrix}\")"
   ]
  },
  {
   "cell_type": "code",
   "execution_count": 31,
   "id": "5148161d-8029-4a87-925d-c4a8cb813850",
   "metadata": {},
   "outputs": [
    {
     "name": "stdout",
     "output_type": "stream",
     "text": [
      "\\begin{bmatrix}\n",
      "-0.71 & -0.71 & \\\\\n",
      "-0.71 & 0.71 & \\\\\n",
      "\\end{bmatrix}\n"
     ]
    }
   ],
   "source": [
    "print_np_array_as_latex(Q)"
   ]
  },
  {
   "cell_type": "code",
   "execution_count": 32,
   "id": "34e40ac2-2ae8-48c5-aac4-47205940b811",
   "metadata": {},
   "outputs": [],
   "source": [
    "Q1, R1 = sp.linalg.qr(A1)\n",
    "A2 = np.dot(R1,Q1)"
   ]
  },
  {
   "cell_type": "code",
   "execution_count": 33,
   "id": "216ec0e6-d55e-4859-88ba-95cd370e6f6e",
   "metadata": {},
   "outputs": [],
   "source": [
    "Q2, R2 = sp.linalg.qr(A2)\n",
    "A3 = np.dot(R2,Q2)"
   ]
  },
  {
   "cell_type": "code",
   "execution_count": 34,
   "id": "d8fbca7e-c349-4c62-9112-2583caf58dfb",
   "metadata": {},
   "outputs": [],
   "source": [
    "Q3, R3 = sp.linalg.qr(A3)\n",
    "A4 = np.dot(R3,Q3)"
   ]
  },
  {
   "cell_type": "code",
   "execution_count": 35,
   "id": "ff4aad8e-261e-4e41-a4e3-d7d13e86d1f4",
   "metadata": {},
   "outputs": [],
   "source": [
    "Q4, R4 = sp.linalg.qr(A4)\n",
    "A5 = np.dot(R4,Q4)"
   ]
  },
  {
   "cell_type": "code",
   "execution_count": 36,
   "id": "f4085a33-6470-4039-b5b0-fdae2fe6a0f0",
   "metadata": {
    "scrolled": true
   },
   "outputs": [
    {
     "name": "stdout",
     "output_type": "stream",
     "text": [
      "\\begin{bmatrix}\n",
      "3.12 & -0.47 & \\\\\n",
      "0.53 & 0.88 & \\\\\n",
      "\\end{bmatrix}\n"
     ]
    }
   ],
   "source": [
    "print_np_array_as_latex(A2)"
   ]
  },
  {
   "cell_type": "code",
   "execution_count": 37,
   "id": "10b30160-b6f0-49aa-969b-166102492f43",
   "metadata": {},
   "outputs": [
    {
     "name": "stdout",
     "output_type": "stream",
     "text": [
      "\\begin{bmatrix}\n",
      "3.06 & 0.84 & \\\\\n",
      "-0.16 & 0.94 & \\\\\n",
      "\\end{bmatrix}\n"
     ]
    }
   ],
   "source": [
    "print_np_array_as_latex(A3)"
   ]
  },
  {
   "cell_type": "code",
   "execution_count": 38,
   "id": "e671270c-fe18-4106-963c-73502975cc4b",
   "metadata": {},
   "outputs": [
    {
     "name": "stdout",
     "output_type": "stream",
     "text": [
      "\\begin{bmatrix}\n",
      "3.02 & -0.95 & \\\\\n",
      "0.05 & 0.98 & \\\\\n",
      "\\end{bmatrix}\n"
     ]
    }
   ],
   "source": [
    "print_np_array_as_latex(A4)"
   ]
  },
  {
   "cell_type": "code",
   "execution_count": 39,
   "id": "b5ecdd6d-59ab-4cd7-9c7d-cb095ca2e2c3",
   "metadata": {},
   "outputs": [
    {
     "name": "stdout",
     "output_type": "stream",
     "text": [
      "\\begin{bmatrix}\n",
      "3.01 & 0.98 & \\\\\n",
      "-0.02 & 0.99 & \\\\\n",
      "\\end{bmatrix}\n"
     ]
    }
   ],
   "source": [
    "print_np_array_as_latex(A5)"
   ]
  },
  {
   "cell_type": "code",
   "execution_count": null,
   "id": "9ebbc4b9-2f3c-485e-b7b2-77c818d9f1b8",
   "metadata": {},
   "outputs": [],
   "source": []
  }
 ],
 "metadata": {
  "kernelspec": {
   "display_name": "Python 3 (ipykernel)",
   "language": "python",
   "name": "python3"
  },
  "language_info": {
   "codemirror_mode": {
    "name": "ipython",
    "version": 3
   },
   "file_extension": ".py",
   "mimetype": "text/x-python",
   "name": "python",
   "nbconvert_exporter": "python",
   "pygments_lexer": "ipython3",
   "version": "3.11.9"
  }
 },
 "nbformat": 4,
 "nbformat_minor": 5
}
